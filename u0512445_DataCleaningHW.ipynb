{
 "cells": [
  {
   "cell_type": "code",
   "execution_count": 1,
   "id": "be62a8e7",
   "metadata": {},
   "outputs": [],
   "source": [
    "#Import required libraries\n",
    "import pandas as pd\n",
    "import matplotlib.pyplot as plt\n",
    "import numpy as np"
   ]
  },
  {
   "cell_type": "code",
   "execution_count": 2,
   "id": "7184e652",
   "metadata": {},
   "outputs": [],
   "source": [
    "#Import required data\n",
    "flights_data = pd.read_csv('flights.csv')\n",
    "flights_data.head(10)\n",
    "weather_data_pd = pd.read_csv('weather.csv')\n",
    "weather_data_np = weather_data_pd.to_numpy()"
   ]
  },
  {
   "cell_type": "code",
   "execution_count": 3,
   "id": "b4934ead",
   "metadata": {
    "scrolled": true
   },
   "outputs": [
    {
     "data": {
      "text/html": [
       "<div>\n",
       "<style scoped>\n",
       "    .dataframe tbody tr th:only-of-type {\n",
       "        vertical-align: middle;\n",
       "    }\n",
       "\n",
       "    .dataframe tbody tr th {\n",
       "        vertical-align: top;\n",
       "    }\n",
       "\n",
       "    .dataframe thead th {\n",
       "        text-align: right;\n",
       "    }\n",
       "</style>\n",
       "<table border=\"1\" class=\"dataframe\">\n",
       "  <thead>\n",
       "    <tr style=\"text-align: right;\">\n",
       "      <th></th>\n",
       "      <th>Unnamed: 0</th>\n",
       "      <th>year</th>\n",
       "      <th>month</th>\n",
       "      <th>day</th>\n",
       "      <th>dep_time</th>\n",
       "      <th>dep_delay</th>\n",
       "      <th>arr_time</th>\n",
       "      <th>arr_delay</th>\n",
       "      <th>carrier</th>\n",
       "      <th>tailnum</th>\n",
       "      <th>flight</th>\n",
       "      <th>origin</th>\n",
       "      <th>dest</th>\n",
       "      <th>air_time</th>\n",
       "      <th>distance</th>\n",
       "      <th>hour</th>\n",
       "      <th>minute</th>\n",
       "    </tr>\n",
       "  </thead>\n",
       "  <tbody>\n",
       "    <tr>\n",
       "      <th>0</th>\n",
       "      <td>1</td>\n",
       "      <td>2013</td>\n",
       "      <td>1</td>\n",
       "      <td>1</td>\n",
       "      <td>517.0</td>\n",
       "      <td>2.0</td>\n",
       "      <td>830.0</td>\n",
       "      <td>11.0</td>\n",
       "      <td>UA</td>\n",
       "      <td>N14228</td>\n",
       "      <td>1545</td>\n",
       "      <td>EWR</td>\n",
       "      <td>IAH</td>\n",
       "      <td>227.0</td>\n",
       "      <td>1400</td>\n",
       "      <td>5.0</td>\n",
       "      <td>17.0</td>\n",
       "    </tr>\n",
       "    <tr>\n",
       "      <th>1</th>\n",
       "      <td>2</td>\n",
       "      <td>2013</td>\n",
       "      <td>1</td>\n",
       "      <td>1</td>\n",
       "      <td>533.0</td>\n",
       "      <td>4.0</td>\n",
       "      <td>850.0</td>\n",
       "      <td>20.0</td>\n",
       "      <td>UA</td>\n",
       "      <td>N24211</td>\n",
       "      <td>1714</td>\n",
       "      <td>LGA</td>\n",
       "      <td>IAH</td>\n",
       "      <td>227.0</td>\n",
       "      <td>1416</td>\n",
       "      <td>5.0</td>\n",
       "      <td>33.0</td>\n",
       "    </tr>\n",
       "    <tr>\n",
       "      <th>2</th>\n",
       "      <td>3</td>\n",
       "      <td>2013</td>\n",
       "      <td>1</td>\n",
       "      <td>1</td>\n",
       "      <td>542.0</td>\n",
       "      <td>2.0</td>\n",
       "      <td>923.0</td>\n",
       "      <td>33.0</td>\n",
       "      <td>AA</td>\n",
       "      <td>N619AA</td>\n",
       "      <td>1141</td>\n",
       "      <td>JFK</td>\n",
       "      <td>MIA</td>\n",
       "      <td>160.0</td>\n",
       "      <td>1089</td>\n",
       "      <td>5.0</td>\n",
       "      <td>42.0</td>\n",
       "    </tr>\n",
       "    <tr>\n",
       "      <th>3</th>\n",
       "      <td>4</td>\n",
       "      <td>2013</td>\n",
       "      <td>1</td>\n",
       "      <td>1</td>\n",
       "      <td>544.0</td>\n",
       "      <td>-1.0</td>\n",
       "      <td>1004.0</td>\n",
       "      <td>-18.0</td>\n",
       "      <td>B6</td>\n",
       "      <td>N804JB</td>\n",
       "      <td>725</td>\n",
       "      <td>JFK</td>\n",
       "      <td>BQN</td>\n",
       "      <td>183.0</td>\n",
       "      <td>1576</td>\n",
       "      <td>5.0</td>\n",
       "      <td>44.0</td>\n",
       "    </tr>\n",
       "    <tr>\n",
       "      <th>4</th>\n",
       "      <td>5</td>\n",
       "      <td>2013</td>\n",
       "      <td>1</td>\n",
       "      <td>1</td>\n",
       "      <td>554.0</td>\n",
       "      <td>-6.0</td>\n",
       "      <td>812.0</td>\n",
       "      <td>-25.0</td>\n",
       "      <td>DL</td>\n",
       "      <td>N668DN</td>\n",
       "      <td>461</td>\n",
       "      <td>LGA</td>\n",
       "      <td>ATL</td>\n",
       "      <td>116.0</td>\n",
       "      <td>762</td>\n",
       "      <td>5.0</td>\n",
       "      <td>54.0</td>\n",
       "    </tr>\n",
       "  </tbody>\n",
       "</table>\n",
       "</div>"
      ],
      "text/plain": [
       "   Unnamed: 0  year  month  day  dep_time  dep_delay  arr_time  arr_delay  \\\n",
       "0           1  2013      1    1     517.0        2.0     830.0       11.0   \n",
       "1           2  2013      1    1     533.0        4.0     850.0       20.0   \n",
       "2           3  2013      1    1     542.0        2.0     923.0       33.0   \n",
       "3           4  2013      1    1     544.0       -1.0    1004.0      -18.0   \n",
       "4           5  2013      1    1     554.0       -6.0     812.0      -25.0   \n",
       "\n",
       "  carrier tailnum  flight origin dest  air_time  distance  hour  minute  \n",
       "0      UA  N14228    1545    EWR  IAH     227.0      1400   5.0    17.0  \n",
       "1      UA  N24211    1714    LGA  IAH     227.0      1416   5.0    33.0  \n",
       "2      AA  N619AA    1141    JFK  MIA     160.0      1089   5.0    42.0  \n",
       "3      B6  N804JB     725    JFK  BQN     183.0      1576   5.0    44.0  \n",
       "4      DL  N668DN     461    LGA  ATL     116.0       762   5.0    54.0  "
      ]
     },
     "execution_count": 3,
     "metadata": {},
     "output_type": "execute_result"
    }
   ],
   "source": [
    "#Pandas Data Filtering/Sorting Questions\n",
    "#use flights_data\n",
    "#Displaying first 5 rows for reference\n",
    "flights_data.head(5)"
   ]
  },
  {
   "cell_type": "code",
   "execution_count": 4,
   "id": "82f90bda",
   "metadata": {},
   "outputs": [
    {
     "data": {
      "text/plain": [
       "2113"
      ]
     },
     "execution_count": 4,
     "metadata": {},
     "output_type": "execute_result"
    }
   ],
   "source": [
    "#Question 1\n",
    "#How many flights were there from JFK to SLC? Int\n",
    "\n",
    "\n",
    "#Creates dataframe q1 which is filtered to show rows where origin is JFK and destination is SLC\n",
    "q1 = flights_data[(flights_data['origin'] == 'JFK') & (flights_data['dest'] == 'SLC')]\n",
    "#Prints the number of flights from JFK to SLC (number of rows in the filtered dataframe q1)\n",
    "len(q1)\n"
   ]
  },
  {
   "cell_type": "code",
   "execution_count": 5,
   "id": "3a76f54f",
   "metadata": {},
   "outputs": [
    {
     "data": {
      "text/plain": [
       "2"
      ]
     },
     "execution_count": 5,
     "metadata": {},
     "output_type": "execute_result"
    }
   ],
   "source": [
    "#Question 2 \n",
    "#How many airlines fly to SLC? Should be int\n",
    "\n",
    "#Creates dataframe q2_flights which is filtered to show rows where destination is SLC\n",
    "q2_flights = flights_data.loc[flights_data['dest'] == 'SLC']\n",
    "#Creates an array containing unique values of 'carrier' found in the q2_flights dataframe\n",
    "q2_carriers = q2_flights['carrier'].unique()\n",
    "#Uncomment to view array\n",
    "#print(q2_carriers)\n",
    "\n",
    "#Prints the number of airlines that fly to SLC\n",
    "q2 = (len(q2_carriers))\n",
    "q2"
   ]
  },
  {
   "cell_type": "code",
   "execution_count": 6,
   "id": "5957abc8",
   "metadata": {},
   "outputs": [
    {
     "data": {
      "text/plain": [
       "10.052380952380952"
      ]
     },
     "execution_count": 6,
     "metadata": {},
     "output_type": "execute_result"
    }
   ],
   "source": [
    "#Question 3 \n",
    "#What is the average arrival delay for flights to RDU? float\n",
    "\n",
    "\n",
    "#Creates dataframe q3_flights which is filtered to show rows where destination is RDU\n",
    "q3_flights = flights_data.loc[flights_data['dest'] == 'RDU']\n",
    "\n",
    "#Prints the average arrival delay for flights to RDU\n",
    "q3 = q3_flights['arr_delay'].mean()\n",
    "q3\n"
   ]
  },
  {
   "cell_type": "code",
   "execution_count": 7,
   "id": "7aa8f5b8",
   "metadata": {},
   "outputs": [
    {
     "data": {
      "text/plain": [
       "0.5332653581442773"
      ]
     },
     "execution_count": 7,
     "metadata": {},
     "output_type": "execute_result"
    }
   ],
   "source": [
    "#Question 4 \n",
    "#What proportion of flights to SEA come from the two NYC airports (LGA and JFK)?  float\n",
    "\n",
    "#Creates dataframe q4_flights which is filtered to show rows where destination is SEA\n",
    "q4_flights = flights_data.loc[flights_data['dest'] == 'SEA']\n",
    "\n",
    "#Creates a series containing the frequencies of origin in q4_flights\n",
    "#Note that there are no flights from LGA to JFK\n",
    "q4_freq = q4_flights['origin'].value_counts(normalize=True)\n",
    "\n",
    "#Creates a variable q4, which contains proportion of flights to SEA from JFK\n",
    "q4 = q4_freq['JFK']\n",
    "#Prints the proportion of flights from JFK to SEA (There were 0 flights from LGA to SEA)\n",
    "q4"
   ]
  },
  {
   "cell_type": "code",
   "execution_count": 8,
   "id": "e5d0dc6a",
   "metadata": {},
   "outputs": [
    {
     "data": {
      "text/plain": [
       "'2013/01/09'"
      ]
     },
     "execution_count": 8,
     "metadata": {},
     "output_type": "execute_result"
    }
   ],
   "source": [
    "#Question 5 \n",
    "#Which date has the largest average depature delay? Pd slice with date and float\n",
    "#please make date a column. Preferred format is 2013/1/1 (y/m/d)\n",
    "\n",
    "#Creates dataframe q5_df that is a slice of the flights_data \n",
    "q5_df = flights_data.iloc[:, 0:8]\n",
    "#Creates a column called \"date\" using pd.to_datetime and the year/month/day columns\n",
    "q5_df['date'] = pd.to_datetime(q5_df[['year', 'month', 'day']])\n",
    "#Applies desired formatting to date column\n",
    "q5_df['date']= q5_df['date'].dt.strftime('%Y/%m/%d')\n",
    "\n",
    "#q5_df.loc[q5_df['dep_delay'].idxmax()] #Alternate way to do this, keeping for reference\n",
    "\n",
    "                                    \n",
    "\n",
    "#Finds index of row with max departure delay\n",
    "max_dep_delay = q5_df['dep_delay'].idxmax()\n",
    "\n",
    "#sets variable q5 equal to the date with the largest average departure delay\n",
    "q5 = q5_df['date'][max_dep_delay]\n",
    "#Prints the date with the largest average departure delay\n",
    "q5\n"
   ]
  },
  {
   "cell_type": "code",
   "execution_count": 9,
   "id": "9500007b",
   "metadata": {},
   "outputs": [
    {
     "data": {
      "text/plain": [
       "'2013/01/09'"
      ]
     },
     "execution_count": 9,
     "metadata": {},
     "output_type": "execute_result"
    }
   ],
   "source": [
    "#Question 6 \n",
    "#Which date has the largest average arrival delay? pd slice with date and float\n",
    "\n",
    "#Using the sliced dataframe from q5, finds the index of the row with max arrival delay\n",
    "max_arr_delay = q5_df['arr_delay'].idxmax()\n",
    "\n",
    "#sets variable q6 equal to the date with the largest average arrival delay\n",
    "q6 = q5_df['date'][max_arr_delay]\n",
    "#Prints the date with the largest average departure delay\n",
    "q6"
   ]
  },
  {
   "cell_type": "code",
   "execution_count": 10,
   "id": "2cbb96bc",
   "metadata": {},
   "outputs": [
    {
     "data": {
      "text/plain": [
       "'N3768'"
      ]
     },
     "execution_count": 10,
     "metadata": {},
     "output_type": "execute_result"
    }
   ],
   "source": [
    "#Question 7 \n",
    "#Which flight departing LGA or JFK in 2013 flew the fastest? pd slice with tailnumber and speed\n",
    "#speed = distance/airtime\n",
    "\n",
    "#Creates a new dataframe, q7_df_filtered, which only contains flights from LGA or JFK in 2013\n",
    "q7_df = flights_data.loc[(flights_data['year'] == '2013') & (flights_data['origin'] == 'LGA') | (flights_data['origin'] == 'JFK')]\n",
    "#Sliced dataframe to only columns of interest\n",
    "q7_df = q7_df[['carrier', 'tailnum', 'flight', 'origin','dest','air_time','distance']]\n",
    "#Created a new column, 'speed', by dividing distance by airtime\n",
    "q7_df['speed'] = q7_df['distance']/q7_df['air_time']\n",
    "#Finds the index of the row with maximum value for speed\n",
    "max_speed = q7_df['speed'].idxmax()\n",
    "\n",
    "#sets variable q7 equal to the date with the largest average arrival delay\n",
    "q7 = q7_df['tailnum'][max_speed]\n",
    "#Prints the date with the largest average departure delay\n",
    "q7\n"
   ]
  },
  {
   "cell_type": "code",
   "execution_count": 11,
   "id": "301025ff",
   "metadata": {},
   "outputs": [],
   "source": [
    "#Question 8 \n",
    "#Replace all nans in the weather pd dataframe with 0s. Pd with no nans\n",
    "\n",
    "q8 = weather_data_pd.dropna() \n"
   ]
  },
  {
   "cell_type": "code",
   "execution_count": 12,
   "id": "6cec0dfe",
   "metadata": {},
   "outputs": [],
   "source": [
    "#Dropping NaNs in weather_data_np for questions 9-11\n",
    "#Note: Question 9 would have a different answer if I didn't do this\n",
    "weather_data_pd.dropna(inplace=True)\n",
    "weather_data_np = weather_data_pd.to_numpy()"
   ]
  },
  {
   "cell_type": "code",
   "execution_count": 13,
   "id": "a77660d0",
   "metadata": {},
   "outputs": [
    {
     "data": {
      "text/plain": [
       "574"
      ]
     },
     "execution_count": 13,
     "metadata": {},
     "output_type": "execute_result"
    }
   ],
   "source": [
    "#%% Numpy Data Filtering/Sorting Question Answering\n",
    "#Use weather_data_np\n",
    "#Question 9 How many observations were made in Feburary? Int\n",
    "\n",
    "#Slices array to only include the month column\n",
    "q_9 = weather_data_np[:,3]\n",
    "#Created a boolean array where values = 2.0 (February) were set to true\n",
    "#Then used sum() to return the number of observations made in february\n",
    "sum(q_9 == 2.0)"
   ]
  },
  {
   "cell_type": "code",
   "execution_count": 14,
   "id": "c1167ad1",
   "metadata": {},
   "outputs": [
    {
     "data": {
      "text/plain": [
       "59.53231707317074"
      ]
     },
     "execution_count": 14,
     "metadata": {},
     "output_type": "execute_result"
    }
   ],
   "source": [
    "#Question 10 What was the mean for humidity in February? Float\n",
    "#Slices array to only include data where month = 2.0\n",
    "q_10 = weather_data_np[weather_data_np[:,3] == 2.0 ]\n",
    "#print the mean humidity\n",
    "np.mean(q_10[:,8])"
   ]
  },
  {
   "cell_type": "code",
   "execution_count": 15,
   "id": "4585c4bb",
   "metadata": {},
   "outputs": [
    {
     "data": {
      "text/plain": [
       "19.092902179100975"
      ]
     },
     "execution_count": 15,
     "metadata": {},
     "output_type": "execute_result"
    }
   ],
   "source": [
    "#Question 11 What was the std for humidity in February? Float\n",
    "#Slices array to only include data where month = 2.0\n",
    "q_11 = weather_data_np[weather_data_np[:,3] == 2.0 ]\n",
    "#print the std for humidity\n",
    "np.std(q_11[:,8])"
   ]
  }
 ],
 "metadata": {
  "kernelspec": {
   "display_name": "Python 3 (ipykernel)",
   "language": "python",
   "name": "python3"
  },
  "language_info": {
   "codemirror_mode": {
    "name": "ipython",
    "version": 3
   },
   "file_extension": ".py",
   "mimetype": "text/x-python",
   "name": "python",
   "nbconvert_exporter": "python",
   "pygments_lexer": "ipython3",
   "version": "3.9.12"
  }
 },
 "nbformat": 4,
 "nbformat_minor": 5
}
